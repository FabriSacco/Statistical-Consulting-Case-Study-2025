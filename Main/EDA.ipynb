{
 "cells": [
  {
   "cell_type": "code",
   "execution_count": null,
   "metadata": {},
   "outputs": [
    {
     "name": "stderr",
     "output_type": "stream",
     "text": [
      "c:\\Users\\Romain\\AppData\\Local\\Programs\\Python\\Python310\\lib\\site-packages\\tqdm\\auto.py:21: TqdmWarning: IProgress not found. Please update jupyter and ipywidgets. See https://ipywidgets.readthedocs.io/en/stable/user_install.html\n",
      "  from .autonotebook import tqdm as notebook_tqdm\n"
     ]
    }
   ],
   "source": [
    "%load_ext autoreload\n",
    "%autoreload 2\n",
    "import startup_credit as cr\n",
    "RAW_CSV      = r\"Main\\ExternalData\\startup_failures.csv\"\n",
    "OUT_DIR= r\"Main\\ExternalData\""
   ]
  },
  {
   "cell_type": "code",
   "execution_count": null,
   "metadata": {},
   "outputs": [
    {
     "name": "stderr",
     "output_type": "stream",
     "text": [
      "c:\\Users\\Romain\\OneDrive - KU Leuven\\Masters\\MBIS\\Year 2\\Semester 2\\Statistical Consulting\\startup_credit.py:609: UserWarning: Parsing dates in %d/%m/%Y format when dayfirst=False (the default) was specified. Pass `dayfirst=True` or specify a format to silence this warning.\n",
      "  out = pd.to_datetime(val, errors=\"coerce\", utc=True)\n",
      "[I 2025-05-01 14:08:19,369] A new study created in memory with name: no-name-4673823d-2c32-4551-bdb6-4ec99c73a991\n",
      "[I 2025-05-01 14:13:07,549] Trial 0 finished with value: 0.7616495865837651 and parameters: {'n_estimators': 600, 'learning_rate': 0.17254716573280354, 'max_depth': 6, 'subsample': 0.8394633936788146, 'colsample_bytree': 0.6624074561769746}. Best is trial 0 with value: 0.7616495865837651.\n",
      "[I 2025-05-01 14:15:52,574] Trial 1 finished with value: 0.7868159346134236 and parameters: {'n_estimators': 400, 'learning_rate': 0.011900590783184251, 'max_depth': 7, 'subsample': 0.8404460046972835, 'colsample_bytree': 0.8832290311184181}. Best is trial 1 with value: 0.7868159346134236.\n",
      "[I 2025-05-01 14:17:41,118] Trial 2 finished with value: 0.765496136625312 and parameters: {'n_estimators': 300, 'learning_rate': 0.18276027831785724, 'max_depth': 7, 'subsample': 0.6849356442713105, 'colsample_bytree': 0.6727299868828402}. Best is trial 1 with value: 0.7868159346134236.\n",
      "[I 2025-05-01 14:20:18,448] Trial 3 finished with value: 0.7861900461652084 and parameters: {'n_estimators': 400, 'learning_rate': 0.024878734419814436, 'max_depth': 5, 'subsample': 0.7727780074568463, 'colsample_bytree': 0.7164916560792167}. Best is trial 1 with value: 0.7868159346134236.\n",
      "[I 2025-05-01 14:23:20,198] Trial 4 finished with value: 0.7850347868639646 and parameters: {'n_estimators': 900, 'learning_rate': 0.01518747922672247, 'max_depth': 4, 'subsample': 0.7465447373174767, 'colsample_bytree': 0.7824279936868144}. Best is trial 1 with value: 0.7868159346134236.\n",
      "[I 2025-05-01 14:25:58,476] Trial 5 finished with value: 0.786496604424436 and parameters: {'n_estimators': 1000, 'learning_rate': 0.018187859051288217, 'max_depth': 5, 'subsample': 0.836965827544817, 'colsample_bytree': 0.6185801650879991}. Best is trial 1 with value: 0.7868159346134236.\n"
     ]
    }
   ],
   "source": [
    "cr.train(RAW_CSV,OUT_DIR,None)"
   ]
  },
  {
   "cell_type": "code",
   "execution_count": null,
   "metadata": {},
   "outputs": [],
   "source": [
    "cr.score(r\"Main\\ExternalData\\out.csv\")"
   ]
  },
  {
   "cell_type": "code",
   "execution_count": null,
   "metadata": {},
   "outputs": [],
   "source": [
    "import matplotlib.pyplot as plt\n",
    "import numpy as np\n",
    "\n",
    "# --------------------------------------------------\n",
    "# Raw counts from the table\n",
    "# --------------------------------------------------\n",
    "exit_states = [\"Acquired\", \"Closed\", \"IPO\", \"Operating\"]\n",
    "grades      = [\"R1\", \"R2\", \"R3\", \"R4\", \"R5\"]\n",
    "\n",
    "xgb_counts = {\n",
    "    \"Acquired\": [1141, 1914, 416, 658, 1420],\n",
    "    \"Closed\":   [406, 1051, 283, 606, 3892],\n",
    "    \"IPO\":      [892,  490,  47,  58,  60],\n",
    "    \"Operating\":[28924,14340,1789,2708,5273],\n",
    "}\n",
    "\n",
    "rf_counts = {\n",
    "    \"Acquired\": [987,  2517, 742, 467, 836],\n",
    "    \"Closed\":   [285,  1370, 529, 542, 3512],\n",
    "    \"IPO\":      [786,  632,  59,  38,  32],\n",
    "    \"Operating\":[28007,16885,2790,1642,3710],\n",
    "}\n",
    "\n",
    "# --------------------------------------------------\n",
    "# Helper: convert category counts to percentages\n",
    "# --------------------------------------------------\n",
    "def to_perc(counts):\n",
    "    total = sum(counts)\n",
    "    return [c * 100 / total for c in counts]\n",
    "\n",
    "xgb_perc = [to_perc(xgb_counts[e]) for e in exit_states]\n",
    "rf_perc  = [to_perc(rf_counts[e])  for e in exit_states]\n",
    "\n",
    "# --------------------------------------------------\n",
    "# Plotting parameters\n",
    "# --------------------------------------------------\n",
    "x      = np.arange(len(exit_states))  # category positions\n",
    "width  = 0.30                         # bar width\n",
    "gap    = 0.05                         # horizontal gap between XGB and RF stacks\n",
    "\n",
    "colors = [\"#bdd7e7\", \"#6baed6\", \"#3182bd\", \"#08519c\", \"#08306b\"]  # light→dark = R1→R5\n",
    "\n",
    "fig, ax = plt.subplots(figsize=(10, 6))\n",
    "\n",
    "bottom_xgb = np.zeros(len(exit_states))\n",
    "bottom_rf  = np.zeros(len(exit_states))\n",
    "\n",
    "# --------------------------------------------------\n",
    "# Build stacked bars\n",
    "# --------------------------------------------------\n",
    "for i, grade in enumerate(grades):\n",
    "    xgb_vals = [xgb_perc[j][i] for j in range(len(exit_states))]\n",
    "    rf_vals  = [rf_perc[j][i]  for j in range(len(exit_states))]\n",
    "\n",
    "    # XGBoost (left stack of each pair)\n",
    "    ax.bar(x - width/2 - gap/2, xgb_vals, width,\n",
    "           bottom=bottom_xgb,\n",
    "           label=grade if i == 0 else \"\",\n",
    "           color=colors[i])\n",
    "\n",
    "    # Random Forest (right stack of each pair)\n",
    "    ax.bar(x + width/2 + gap/2, rf_vals,  width,\n",
    "           bottom=bottom_rf,\n",
    "           color=colors[i])\n",
    "\n",
    "    bottom_xgb += xgb_vals\n",
    "    bottom_rf  += rf_vals\n",
    "\n",
    "# --------------------------------------------------\n",
    "# Formatting\n",
    "# --------------------------------------------------\n",
    "ax.set_ylabel(\"Percentage share within exit state (%)\")\n",
    "ax.set_title(\"Rating distribution by exit state — XGBoost (left) vs Random Forest (right)\")\n",
    "ax.set_xticks(x)\n",
    "ax.set_xticklabels(exit_states)\n",
    "ax.set_ylim(0, 105)\n",
    "\n",
    "# Single-grade legend\n",
    "handles = [plt.Rectangle((0, 0), 1, 1, color=colors[i]) for i in range(len(grades))]\n",
    "ax.legend(handles, grades, title=\"Rating grade\",\n",
    "          bbox_to_anchor=(1.05, 1), loc=\"upper left\")\n",
    "\n",
    "plt.tight_layout()\n",
    "plt.savefig(\"exit_state_distribution.png\", dpi=300, bbox_inches=\"tight\")\n",
    "plt.show()\n"
   ]
  }
 ],
 "metadata": {
  "kernelspec": {
   "display_name": "Python 3",
   "language": "python",
   "name": "python3"
  },
  "language_info": {
   "codemirror_mode": {
    "name": "ipython",
    "version": 3
   },
   "file_extension": ".py",
   "mimetype": "text/x-python",
   "name": "python",
   "nbconvert_exporter": "python",
   "pygments_lexer": "ipython3",
   "version": "3.10.5"
  }
 },
 "nbformat": 4,
 "nbformat_minor": 2
}
