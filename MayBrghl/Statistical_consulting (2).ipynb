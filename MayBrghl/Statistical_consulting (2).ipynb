{
  "nbformat": 4,
  "nbformat_minor": 0,
  "metadata": {
    "colab": {
      "provenance": []
    },
    "kernelspec": {
      "name": "python3",
      "display_name": "Python 3"
    },
    "language_info": {
      "name": "python"
    }
  },
  "cells": [
    {
      "cell_type": "markdown",
      "source": [
        "Data Preprocessing:"
      ],
      "metadata": {
        "id": "DhjEAq7aEQtp"
      }
    },
    {
      "cell_type": "code",
      "source": [
        "import pandas as pd\n",
        "import numpy as np\n",
        "from datetime import datetime"
      ],
      "metadata": {
        "id": "9zv9_YSTG1RP"
      },
      "execution_count": 12,
      "outputs": []
    },
    {
      "cell_type": "code",
      "source": [
        "from google.colab import drive\n",
        "drive.mount('/content/drive')"
      ],
      "metadata": {
        "colab": {
          "base_uri": "https://localhost:8080/"
        },
        "id": "mvvHTKBuHBJi",
        "outputId": "4cd62d50-0f51-4ff8-9a22-20e1f0e52a2a"
      },
      "execution_count": 17,
      "outputs": [
        {
          "output_type": "stream",
          "name": "stdout",
          "text": [
            "Drive already mounted at /content/drive; to attempt to forcibly remount, call drive.mount(\"/content/drive\", force_remount=True).\n"
          ]
        }
      ]
    },
    {
      "cell_type": "code",
      "source": [
        "df = pd.read_csv('/content/drive/My Drive/Statistical_Data/startup_failures.csv')"
      ],
      "metadata": {
        "id": "pkkwWtNkL4lO"
      },
      "execution_count": 25,
      "outputs": []
    },
    {
      "cell_type": "code",
      "source": [
        "df.head(2)"
      ],
      "metadata": {
        "colab": {
          "base_uri": "https://localhost:8080/",
          "height": 201
        },
        "collapsed": true,
        "id": "3xAyyBNWMqLV",
        "outputId": "36f69ce5-21c1-41e4-ad30-e3d8113a0737"
      },
      "execution_count": 26,
      "outputs": [
        {
          "output_type": "execute_result",
          "data": {
            "text/plain": [
              "                permalink      name            homepage_url  \\\n",
              "0     /organization/-fame     #fame      http://livfame.com   \n",
              "1  /organization/-qounter  :Qounter  http://www.qounter.com   \n",
              "\n",
              "                                       category_list funding_total_usd  \\\n",
              "0                                              Media          10000000   \n",
              "1  Application Platforms|Real Time|Social Network...            700000   \n",
              "\n",
              "      status country_code state_code      region           city  \\\n",
              "0  operating          IND         16      Mumbai         Mumbai   \n",
              "1  operating          USA         DE  DE - Other  Delaware City   \n",
              "\n",
              "   funding_rounds  founded_at first_funding_at last_funding_at  \n",
              "0               1         NaN       2015-01-05      2015-01-05  \n",
              "1               2  2014-09-04       2014-03-01      2014-10-14  "
            ],
            "text/html": [
              "\n",
              "  <div id=\"df-b44b4bc2-e218-423e-b691-c2f66ef99e46\" class=\"colab-df-container\">\n",
              "    <div>\n",
              "<style scoped>\n",
              "    .dataframe tbody tr th:only-of-type {\n",
              "        vertical-align: middle;\n",
              "    }\n",
              "\n",
              "    .dataframe tbody tr th {\n",
              "        vertical-align: top;\n",
              "    }\n",
              "\n",
              "    .dataframe thead th {\n",
              "        text-align: right;\n",
              "    }\n",
              "</style>\n",
              "<table border=\"1\" class=\"dataframe\">\n",
              "  <thead>\n",
              "    <tr style=\"text-align: right;\">\n",
              "      <th></th>\n",
              "      <th>permalink</th>\n",
              "      <th>name</th>\n",
              "      <th>homepage_url</th>\n",
              "      <th>category_list</th>\n",
              "      <th>funding_total_usd</th>\n",
              "      <th>status</th>\n",
              "      <th>country_code</th>\n",
              "      <th>state_code</th>\n",
              "      <th>region</th>\n",
              "      <th>city</th>\n",
              "      <th>funding_rounds</th>\n",
              "      <th>founded_at</th>\n",
              "      <th>first_funding_at</th>\n",
              "      <th>last_funding_at</th>\n",
              "    </tr>\n",
              "  </thead>\n",
              "  <tbody>\n",
              "    <tr>\n",
              "      <th>0</th>\n",
              "      <td>/organization/-fame</td>\n",
              "      <td>#fame</td>\n",
              "      <td>http://livfame.com</td>\n",
              "      <td>Media</td>\n",
              "      <td>10000000</td>\n",
              "      <td>operating</td>\n",
              "      <td>IND</td>\n",
              "      <td>16</td>\n",
              "      <td>Mumbai</td>\n",
              "      <td>Mumbai</td>\n",
              "      <td>1</td>\n",
              "      <td>NaN</td>\n",
              "      <td>2015-01-05</td>\n",
              "      <td>2015-01-05</td>\n",
              "    </tr>\n",
              "    <tr>\n",
              "      <th>1</th>\n",
              "      <td>/organization/-qounter</td>\n",
              "      <td>:Qounter</td>\n",
              "      <td>http://www.qounter.com</td>\n",
              "      <td>Application Platforms|Real Time|Social Network...</td>\n",
              "      <td>700000</td>\n",
              "      <td>operating</td>\n",
              "      <td>USA</td>\n",
              "      <td>DE</td>\n",
              "      <td>DE - Other</td>\n",
              "      <td>Delaware City</td>\n",
              "      <td>2</td>\n",
              "      <td>2014-09-04</td>\n",
              "      <td>2014-03-01</td>\n",
              "      <td>2014-10-14</td>\n",
              "    </tr>\n",
              "  </tbody>\n",
              "</table>\n",
              "</div>\n",
              "    <div class=\"colab-df-buttons\">\n",
              "\n",
              "  <div class=\"colab-df-container\">\n",
              "    <button class=\"colab-df-convert\" onclick=\"convertToInteractive('df-b44b4bc2-e218-423e-b691-c2f66ef99e46')\"\n",
              "            title=\"Convert this dataframe to an interactive table.\"\n",
              "            style=\"display:none;\">\n",
              "\n",
              "  <svg xmlns=\"http://www.w3.org/2000/svg\" height=\"24px\" viewBox=\"0 -960 960 960\">\n",
              "    <path d=\"M120-120v-720h720v720H120Zm60-500h600v-160H180v160Zm220 220h160v-160H400v160Zm0 220h160v-160H400v160ZM180-400h160v-160H180v160Zm440 0h160v-160H620v160ZM180-180h160v-160H180v160Zm440 0h160v-160H620v160Z\"/>\n",
              "  </svg>\n",
              "    </button>\n",
              "\n",
              "  <style>\n",
              "    .colab-df-container {\n",
              "      display:flex;\n",
              "      gap: 12px;\n",
              "    }\n",
              "\n",
              "    .colab-df-convert {\n",
              "      background-color: #E8F0FE;\n",
              "      border: none;\n",
              "      border-radius: 50%;\n",
              "      cursor: pointer;\n",
              "      display: none;\n",
              "      fill: #1967D2;\n",
              "      height: 32px;\n",
              "      padding: 0 0 0 0;\n",
              "      width: 32px;\n",
              "    }\n",
              "\n",
              "    .colab-df-convert:hover {\n",
              "      background-color: #E2EBFA;\n",
              "      box-shadow: 0px 1px 2px rgba(60, 64, 67, 0.3), 0px 1px 3px 1px rgba(60, 64, 67, 0.15);\n",
              "      fill: #174EA6;\n",
              "    }\n",
              "\n",
              "    .colab-df-buttons div {\n",
              "      margin-bottom: 4px;\n",
              "    }\n",
              "\n",
              "    [theme=dark] .colab-df-convert {\n",
              "      background-color: #3B4455;\n",
              "      fill: #D2E3FC;\n",
              "    }\n",
              "\n",
              "    [theme=dark] .colab-df-convert:hover {\n",
              "      background-color: #434B5C;\n",
              "      box-shadow: 0px 1px 3px 1px rgba(0, 0, 0, 0.15);\n",
              "      filter: drop-shadow(0px 1px 2px rgba(0, 0, 0, 0.3));\n",
              "      fill: #FFFFFF;\n",
              "    }\n",
              "  </style>\n",
              "\n",
              "    <script>\n",
              "      const buttonEl =\n",
              "        document.querySelector('#df-b44b4bc2-e218-423e-b691-c2f66ef99e46 button.colab-df-convert');\n",
              "      buttonEl.style.display =\n",
              "        google.colab.kernel.accessAllowed ? 'block' : 'none';\n",
              "\n",
              "      async function convertToInteractive(key) {\n",
              "        const element = document.querySelector('#df-b44b4bc2-e218-423e-b691-c2f66ef99e46');\n",
              "        const dataTable =\n",
              "          await google.colab.kernel.invokeFunction('convertToInteractive',\n",
              "                                                    [key], {});\n",
              "        if (!dataTable) return;\n",
              "\n",
              "        const docLinkHtml = 'Like what you see? Visit the ' +\n",
              "          '<a target=\"_blank\" href=https://colab.research.google.com/notebooks/data_table.ipynb>data table notebook</a>'\n",
              "          + ' to learn more about interactive tables.';\n",
              "        element.innerHTML = '';\n",
              "        dataTable['output_type'] = 'display_data';\n",
              "        await google.colab.output.renderOutput(dataTable, element);\n",
              "        const docLink = document.createElement('div');\n",
              "        docLink.innerHTML = docLinkHtml;\n",
              "        element.appendChild(docLink);\n",
              "      }\n",
              "    </script>\n",
              "  </div>\n",
              "\n",
              "\n",
              "<div id=\"df-7633a4c4-403a-4132-b904-4477da5c3c9e\">\n",
              "  <button class=\"colab-df-quickchart\" onclick=\"quickchart('df-7633a4c4-403a-4132-b904-4477da5c3c9e')\"\n",
              "            title=\"Suggest charts\"\n",
              "            style=\"display:none;\">\n",
              "\n",
              "<svg xmlns=\"http://www.w3.org/2000/svg\" height=\"24px\"viewBox=\"0 0 24 24\"\n",
              "     width=\"24px\">\n",
              "    <g>\n",
              "        <path d=\"M19 3H5c-1.1 0-2 .9-2 2v14c0 1.1.9 2 2 2h14c1.1 0 2-.9 2-2V5c0-1.1-.9-2-2-2zM9 17H7v-7h2v7zm4 0h-2V7h2v10zm4 0h-2v-4h2v4z\"/>\n",
              "    </g>\n",
              "</svg>\n",
              "  </button>\n",
              "\n",
              "<style>\n",
              "  .colab-df-quickchart {\n",
              "      --bg-color: #E8F0FE;\n",
              "      --fill-color: #1967D2;\n",
              "      --hover-bg-color: #E2EBFA;\n",
              "      --hover-fill-color: #174EA6;\n",
              "      --disabled-fill-color: #AAA;\n",
              "      --disabled-bg-color: #DDD;\n",
              "  }\n",
              "\n",
              "  [theme=dark] .colab-df-quickchart {\n",
              "      --bg-color: #3B4455;\n",
              "      --fill-color: #D2E3FC;\n",
              "      --hover-bg-color: #434B5C;\n",
              "      --hover-fill-color: #FFFFFF;\n",
              "      --disabled-bg-color: #3B4455;\n",
              "      --disabled-fill-color: #666;\n",
              "  }\n",
              "\n",
              "  .colab-df-quickchart {\n",
              "    background-color: var(--bg-color);\n",
              "    border: none;\n",
              "    border-radius: 50%;\n",
              "    cursor: pointer;\n",
              "    display: none;\n",
              "    fill: var(--fill-color);\n",
              "    height: 32px;\n",
              "    padding: 0;\n",
              "    width: 32px;\n",
              "  }\n",
              "\n",
              "  .colab-df-quickchart:hover {\n",
              "    background-color: var(--hover-bg-color);\n",
              "    box-shadow: 0 1px 2px rgba(60, 64, 67, 0.3), 0 1px 3px 1px rgba(60, 64, 67, 0.15);\n",
              "    fill: var(--button-hover-fill-color);\n",
              "  }\n",
              "\n",
              "  .colab-df-quickchart-complete:disabled,\n",
              "  .colab-df-quickchart-complete:disabled:hover {\n",
              "    background-color: var(--disabled-bg-color);\n",
              "    fill: var(--disabled-fill-color);\n",
              "    box-shadow: none;\n",
              "  }\n",
              "\n",
              "  .colab-df-spinner {\n",
              "    border: 2px solid var(--fill-color);\n",
              "    border-color: transparent;\n",
              "    border-bottom-color: var(--fill-color);\n",
              "    animation:\n",
              "      spin 1s steps(1) infinite;\n",
              "  }\n",
              "\n",
              "  @keyframes spin {\n",
              "    0% {\n",
              "      border-color: transparent;\n",
              "      border-bottom-color: var(--fill-color);\n",
              "      border-left-color: var(--fill-color);\n",
              "    }\n",
              "    20% {\n",
              "      border-color: transparent;\n",
              "      border-left-color: var(--fill-color);\n",
              "      border-top-color: var(--fill-color);\n",
              "    }\n",
              "    30% {\n",
              "      border-color: transparent;\n",
              "      border-left-color: var(--fill-color);\n",
              "      border-top-color: var(--fill-color);\n",
              "      border-right-color: var(--fill-color);\n",
              "    }\n",
              "    40% {\n",
              "      border-color: transparent;\n",
              "      border-right-color: var(--fill-color);\n",
              "      border-top-color: var(--fill-color);\n",
              "    }\n",
              "    60% {\n",
              "      border-color: transparent;\n",
              "      border-right-color: var(--fill-color);\n",
              "    }\n",
              "    80% {\n",
              "      border-color: transparent;\n",
              "      border-right-color: var(--fill-color);\n",
              "      border-bottom-color: var(--fill-color);\n",
              "    }\n",
              "    90% {\n",
              "      border-color: transparent;\n",
              "      border-bottom-color: var(--fill-color);\n",
              "    }\n",
              "  }\n",
              "</style>\n",
              "\n",
              "  <script>\n",
              "    async function quickchart(key) {\n",
              "      const quickchartButtonEl =\n",
              "        document.querySelector('#' + key + ' button');\n",
              "      quickchartButtonEl.disabled = true;  // To prevent multiple clicks.\n",
              "      quickchartButtonEl.classList.add('colab-df-spinner');\n",
              "      try {\n",
              "        const charts = await google.colab.kernel.invokeFunction(\n",
              "            'suggestCharts', [key], {});\n",
              "      } catch (error) {\n",
              "        console.error('Error during call to suggestCharts:', error);\n",
              "      }\n",
              "      quickchartButtonEl.classList.remove('colab-df-spinner');\n",
              "      quickchartButtonEl.classList.add('colab-df-quickchart-complete');\n",
              "    }\n",
              "    (() => {\n",
              "      let quickchartButtonEl =\n",
              "        document.querySelector('#df-7633a4c4-403a-4132-b904-4477da5c3c9e button');\n",
              "      quickchartButtonEl.style.display =\n",
              "        google.colab.kernel.accessAllowed ? 'block' : 'none';\n",
              "    })();\n",
              "  </script>\n",
              "</div>\n",
              "\n",
              "    </div>\n",
              "  </div>\n"
            ],
            "application/vnd.google.colaboratory.intrinsic+json": {
              "type": "dataframe",
              "variable_name": "df",
              "summary": "{\n  \"name\": \"df\",\n  \"rows\": 66368,\n  \"fields\": [\n    {\n      \"column\": \"permalink\",\n      \"properties\": {\n        \"dtype\": \"string\",\n        \"num_unique_values\": 66368,\n        \"samples\": [\n          \"/organization/esoko\",\n          \"/organization/plansource-holdings\",\n          \"/organization/veteran-ventures-angel-network-2\"\n        ],\n        \"semantic_type\": \"\",\n        \"description\": \"\"\n      }\n    },\n    {\n      \"column\": \"name\",\n      \"properties\": {\n        \"dtype\": \"string\",\n        \"num_unique_values\": 66102,\n        \"samples\": [\n          \"SeeSaw Networks\",\n          \"Garmentory\",\n          \"Qool\"\n        ],\n        \"semantic_type\": \"\",\n        \"description\": \"\"\n      }\n    },\n    {\n      \"column\": \"homepage_url\",\n      \"properties\": {\n        \"dtype\": \"string\",\n        \"num_unique_values\": 61191,\n        \"samples\": [\n          \"http://www.myZeo.com\",\n          \"https://www.juhe.cn/\",\n          \"http://www.jollydeck.com/\"\n        ],\n        \"semantic_type\": \"\",\n        \"description\": \"\"\n      }\n    },\n    {\n      \"column\": \"category_list\",\n      \"properties\": {\n        \"dtype\": \"category\",\n        \"num_unique_values\": 27296,\n        \"samples\": [\n          \"Kids|Parenting|Technology\",\n          \"Entertainment|Games|Internet|Mobile|Technology\",\n          \"Health Care|Health Care Information Technology|Innovation Management\"\n        ],\n        \"semantic_type\": \"\",\n        \"description\": \"\"\n      }\n    },\n    {\n      \"column\": \"funding_total_usd\",\n      \"properties\": {\n        \"dtype\": \"category\",\n        \"num_unique_values\": 18896,\n        \"samples\": [\n          \"2547368\",\n          \"3970000\",\n          \"1118000\"\n        ],\n        \"semantic_type\": \"\",\n        \"description\": \"\"\n      }\n    },\n    {\n      \"column\": \"status\",\n      \"properties\": {\n        \"dtype\": \"category\",\n        \"num_unique_values\": 4,\n        \"samples\": [\n          \"acquired\",\n          \"ipo\",\n          \"operating\"\n        ],\n        \"semantic_type\": \"\",\n        \"description\": \"\"\n      }\n    },\n    {\n      \"column\": \"country_code\",\n      \"properties\": {\n        \"dtype\": \"category\",\n        \"num_unique_values\": 137,\n        \"samples\": [\n          \"LAO\",\n          \"TGO\",\n          \"KOR\"\n        ],\n        \"semantic_type\": \"\",\n        \"description\": \"\"\n      }\n    },\n    {\n      \"column\": \"state_code\",\n      \"properties\": {\n        \"dtype\": \"category\",\n        \"num_unique_values\": 311,\n        \"samples\": [\n          \"D5\",\n          \"NJ\",\n          \"P2\"\n        ],\n        \"semantic_type\": \"\",\n        \"description\": \"\"\n      }\n    },\n    {\n      \"column\": \"region\",\n      \"properties\": {\n        \"dtype\": \"category\",\n        \"num_unique_values\": 1092,\n        \"samples\": [\n          \"Trowbridge\",\n          \"Lagos\",\n          \"Kanpur\"\n        ],\n        \"semantic_type\": \"\",\n        \"description\": \"\"\n      }\n    },\n    {\n      \"column\": \"city\",\n      \"properties\": {\n        \"dtype\": \"category\",\n        \"num_unique_values\": 5111,\n        \"samples\": [\n          \"Tennessee\",\n          \"Fyshwick\",\n          \"West Chicago\"\n        ],\n        \"semantic_type\": \"\",\n        \"description\": \"\"\n      }\n    },\n    {\n      \"column\": \"funding_rounds\",\n      \"properties\": {\n        \"dtype\": \"number\",\n        \"std\": 1,\n        \"min\": 1,\n        \"max\": 19,\n        \"num_unique_values\": 19,\n        \"samples\": [\n          1,\n          5,\n          12\n        ],\n        \"semantic_type\": \"\",\n        \"description\": \"\"\n      }\n    },\n    {\n      \"column\": \"founded_at\",\n      \"properties\": {\n        \"dtype\": \"category\",\n        \"num_unique_values\": 3978,\n        \"samples\": [\n          \"2010-04-18\",\n          \"1854-02-01\",\n          \"2009-12-07\"\n        ],\n        \"semantic_type\": \"\",\n        \"description\": \"\"\n      }\n    },\n    {\n      \"column\": \"first_funding_at\",\n      \"properties\": {\n        \"dtype\": \"category\",\n        \"num_unique_values\": 4817,\n        \"samples\": [\n          \"2008-05-10\",\n          \"2001-11-05\",\n          \"2011-10-05\"\n        ],\n        \"semantic_type\": \"\",\n        \"description\": \"\"\n      }\n    },\n    {\n      \"column\": \"last_funding_at\",\n      \"properties\": {\n        \"dtype\": \"object\",\n        \"num_unique_values\": 4518,\n        \"samples\": [\n          \"1984-01-01\",\n          \"2009-02-17\",\n          \"2015-02-16\"\n        ],\n        \"semantic_type\": \"\",\n        \"description\": \"\"\n      }\n    }\n  ]\n}"
            }
          },
          "metadata": {},
          "execution_count": 26
        }
      ]
    },
    {
      "cell_type": "code",
      "source": [
        "# Clean funding data\n",
        "df['funding_total_usd'] = pd.to_numeric(df['funding_total_usd'].replace('-', '0'))\n",
        "\n"
      ],
      "metadata": {
        "collapsed": true,
        "id": "4PF1r2h5M2dt"
      },
      "execution_count": 29,
      "outputs": []
    },
    {
      "cell_type": "code",
      "source": [
        "for col in date_columns:\n",
        "    print(f\"\\nSample dates from {col}:\")\n",
        "    print(df[col].head())"
      ],
      "metadata": {
        "colab": {
          "base_uri": "https://localhost:8080/"
        },
        "collapsed": true,
        "id": "h-rP61SdOSnT",
        "outputId": "1a887f88-fd24-475d-ea99-9e9b8aef4285"
      },
      "execution_count": 30,
      "outputs": [
        {
          "output_type": "stream",
          "name": "stdout",
          "text": [
            "\n",
            "Sample dates from founded_at:\n",
            "0           NaN\n",
            "1    2014-09-04\n",
            "2           NaN\n",
            "3    2007-01-01\n",
            "4    2010-01-01\n",
            "Name: founded_at, dtype: object\n",
            "\n",
            "Sample dates from first_funding_at:\n",
            "0    2015-01-05\n",
            "1    2014-03-01\n",
            "2    2014-01-30\n",
            "3    2008-03-19\n",
            "4    2014-07-24\n",
            "Name: first_funding_at, dtype: object\n",
            "\n",
            "Sample dates from last_funding_at:\n",
            "0    2015-01-05\n",
            "1    2014-10-14\n",
            "2    2014-01-30\n",
            "3    2008-03-19\n",
            "4    2014-07-24\n",
            "Name: last_funding_at, dtype: object\n"
          ]
        }
      ]
    },
    {
      "cell_type": "code",
      "source": [
        "for col in date_columns:\n",
        "    try:\n",
        "\n",
        "      # Method 1: Try with coerce option to set invalid dates to NaT\n",
        "        df[col] = pd.to_datetime(df[col], errors='coerce')\n",
        "\n",
        "             # Print number of NaT values\n",
        "        nat_count = df[col].isna().sum()\n",
        "        print(f\"Column {col}: {nat_count} invalid dates converted to NaT\")\n",
        "\n",
        "    except Exception as e:\n",
        "        print(f\"Error in column {col}: {str(e)}\")\n"
      ],
      "metadata": {
        "colab": {
          "base_uri": "https://localhost:8080/"
        },
        "collapsed": true,
        "id": "7hVrfdAJOioB",
        "outputId": "f4e4cd4b-63a7-4e98-bb84-269ecd37e083"
      },
      "execution_count": 31,
      "outputs": [
        {
          "output_type": "stream",
          "name": "stdout",
          "text": [
            "Column founded_at: 15225 invalid dates converted to NaT\n",
            "Column first_funding_at: 27 invalid dates converted to NaT\n",
            "Column last_funding_at: 0 invalid dates converted to NaT\n"
          ]
        }
      ]
    },
    {
      "cell_type": "code",
      "source": [
        "# Clean up NaT values if needed\n",
        "df = df.dropna(subset=date_columns)  # Remove rows with invalid dates"
      ],
      "metadata": {
        "id": "LohqoiWcO0Z6"
      },
      "execution_count": 32,
      "outputs": []
    },
    {
      "cell_type": "code",
      "source": [
        "# Convert dates\n",
        "date_columns = ['founded_at', 'first_funding_at', 'last_funding_at']\n",
        "for col in date_columns:\n",
        "    df[col] = pd.to_datetime(df[col])"
      ],
      "metadata": {
        "id": "jVMuyAr8OLy3"
      },
      "execution_count": 33,
      "outputs": []
    },
    {
      "cell_type": "code",
      "execution_count": 35,
      "metadata": {
        "id": "Bd40XW1oELsz",
        "collapsed": true
      },
      "outputs": [],
      "source": [
        "# Calculate company age\n",
        "def calculate_age(founded_date):\n",
        "    if pd.isna(founded_date):\n",
        "        return None\n",
        "    today = datetime.now()\n",
        "    return (today - founded_date).days / 365.25\n",
        "\n",
        "df['company_age'] = df['founded_at'].apply(calculate_age)\n",
        "\n",
        "# Round to 2 decimal places if needed\n",
        "df['company_age'] = df['company_age'].round(2)\n"
      ]
    },
    {
      "cell_type": "markdown",
      "source": [
        "Risk Scoring System:"
      ],
      "metadata": {
        "id": "gczlcdleEVLj"
      }
    },
    {
      "cell_type": "code",
      "source": [
        "def calculate_risk_score(row):\n",
        "    score = 0\n",
        "\n",
        "    # Funding rounds score\n",
        "    score += min(row['funding_rounds'] * 10, 30)\n",
        "\n",
        "    # Funding amount score\n",
        "    if row['funding_total_usd'] > 10000000:\n",
        "        score += 30\n",
        "    elif row['funding_total_usd'] > 2000000:\n",
        "        score += 20\n",
        "    else:\n",
        "        score += 10\n",
        "\n",
        "    # Company age score\n",
        "    if row['company_age'] > 3:\n",
        "        score += 20\n",
        "    elif row['company_age'] > 1:\n",
        "        score += 10\n",
        "\n",
        "    # Operating status score\n",
        "    if row['status'] == 'operating':\n",
        "        score += 20\n",
        "\n",
        "    return score\n",
        "\n",
        "df['risk_score'] = df.apply(calculate_risk_score, axis=1)\n"
      ],
      "metadata": {
        "id": "0DcgJ8RVEX9q"
      },
      "execution_count": 36,
      "outputs": []
    },
    {
      "cell_type": "markdown",
      "source": [
        "Industry Risk Analysis:"
      ],
      "metadata": {
        "id": "vsqEK1swEaYF"
      }
    },
    {
      "cell_type": "code",
      "source": [
        "def analyze_industry_risk():\n",
        "    # Split categories and create industry risk profile\n",
        "    categories = df['category_list'].str.split('|', expand=True)\n",
        "    categories_flat = categories.values.ravel()\n",
        "    categories_flat = [x for x in categories_flat if str(x) != 'nan']\n",
        "\n",
        "    industry_risk = pd.DataFrame({\n",
        "        'category': pd.Series(categories_flat).value_counts().index,\n",
        "        'count': pd.Series(categories_flat).value_counts().values\n",
        "    })\n",
        "\n",
        "    # Calculate average funding success by industry\n",
        "    industry_risk['avg_funding'] = industry_risk['category'].apply(\n",
        "        lambda x: df[df['category_list'].str.contains(x, na=False)]['funding_total_usd'].mean()\n",
        "    )\n",
        "\n",
        "    return industry_risk\n"
      ],
      "metadata": {
        "id": "EYJQ5FI3Edy0"
      },
      "execution_count": 37,
      "outputs": []
    },
    {
      "cell_type": "markdown",
      "source": [
        "Risk Classification:"
      ],
      "metadata": {
        "id": "oFcZkn1eEfy8"
      }
    },
    {
      "cell_type": "code",
      "source": [
        "def classify_risk(score):\n",
        "    if score >= 70:\n",
        "        return 'Low Risk'\n",
        "    elif score >= 40:\n",
        "        return 'Medium Risk'\n",
        "    else:\n",
        "        return 'High Risk'\n",
        "\n",
        "df['risk_category'] = df['risk_score'].apply(classify_risk)\n"
      ],
      "metadata": {
        "id": "AV2ZKp82EjHL"
      },
      "execution_count": 38,
      "outputs": []
    },
    {
      "cell_type": "markdown",
      "source": [
        "Credit Terms Assignment:"
      ],
      "metadata": {
        "id": "pmYXielUEnDf"
      }
    },
    {
      "cell_type": "code",
      "source": [
        "def assign_credit_terms(risk_category):\n",
        "    terms = {\n",
        "        'Low Risk': {\n",
        "            'credit_limit': '500000',\n",
        "            'interest_rate': '5%',\n",
        "            'term_months': 36\n",
        "        },\n",
        "        'Medium Risk': {\n",
        "            'credit_limit': '200000',\n",
        "            'interest_rate': '8%',\n",
        "            'term_months': 24\n",
        "        },\n",
        "        'High Risk': {\n",
        "            'credit_limit': '50000',\n",
        "            'interest_rate': '12%',\n",
        "            'term_months': 12\n",
        "        }\n",
        "    }\n",
        "    return terms.get(risk_category)\n",
        "\n",
        "df['credit_terms'] = df['risk_category'].apply(assign_credit_terms)\n"
      ],
      "metadata": {
        "id": "OI1_rrj2Enoe"
      },
      "execution_count": 39,
      "outputs": []
    },
    {
      "cell_type": "markdown",
      "source": [
        "Policy Validation:"
      ],
      "metadata": {
        "id": "Af05zVkdEp60"
      }
    },
    {
      "cell_type": "code",
      "source": [
        "def validate_policy():\n",
        "    # Calculate risk distribution\n",
        "    risk_distribution = df['risk_category'].value_counts()\n",
        "\n",
        "    # Calculate average funding by risk category\n",
        "    avg_funding_by_risk = df.groupby('risk_category')['funding_total_usd'].mean()\n",
        "\n",
        "    # Calculate success rate by risk category\n",
        "    success_rate = df.groupby('risk_category')['status'].apply(\n",
        "        lambda x: (x == 'operating').mean()\n",
        "    )\n",
        "\n",
        "    return {\n",
        "        'risk_distribution': risk_distribution,\n",
        "        'avg_funding_by_risk': avg_funding_by_risk,\n",
        "        'success_rate': success_rate\n",
        "    }\n"
      ],
      "metadata": {
        "id": "BWZ1MidAEsr4"
      },
      "execution_count": 40,
      "outputs": []
    },
    {
      "cell_type": "markdown",
      "source": [
        "Generate Reports:"
      ],
      "metadata": {
        "id": "nwosxqrGEwfG"
      }
    },
    {
      "cell_type": "code",
      "source": [
        "def generate_risk_report():\n",
        "    validation_results = validate_policy()\n",
        "    industry_risks = analyze_industry_risk()\n",
        "\n",
        "    report = {\n",
        "        'risk_distribution': validation_results['risk_distribution'],\n",
        "        'industry_risk_profile': industry_risks,\n",
        "        'success_rates': validation_results['success_rate'],\n",
        "        'high_risk_industries': industry_risks.nlargest(5, 'count'),\n",
        "        'low_risk_industries': industry_risks.nsmallest(5, 'count')\n",
        "    }\n",
        "\n",
        "    return report\n"
      ],
      "metadata": {
        "id": "1vB7wHTaExH_"
      },
      "execution_count": 41,
      "outputs": []
    },
    {
      "cell_type": "code",
      "source": [
        "# Display basic information about the dataset\n",
        "print(\"\\nDataset Overview:\")\n",
        "print(\"-----------------\")\n",
        "print(f\"Total number of companies: {len(df)}\")\n",
        "print(\"\\nSample of the data:\")\n",
        "print(df.head())\n"
      ],
      "metadata": {
        "colab": {
          "base_uri": "https://localhost:8080/"
        },
        "collapsed": true,
        "id": "s4ZIQxsdb6RA",
        "outputId": "1901450d-3a19-4674-cfaf-f460dab4d10d"
      },
      "execution_count": 42,
      "outputs": [
        {
          "output_type": "stream",
          "name": "stdout",
          "text": [
            "\n",
            "Dataset Overview:\n",
            "-----------------\n",
            "Total number of companies: 51120\n",
            "\n",
            "Sample of the data:\n",
            "                             permalink                    name  \\\n",
            "1               /organization/-qounter                :Qounter   \n",
            "3                /organization/0-6-com                 0-6.com   \n",
            "4       /organization/004-technologies        004 Technologies   \n",
            "6  /organization/0ndine-biomedical-inc  Ondine Biomedical Inc.   \n",
            "7                 /organization/0xdata                  H2O.ai   \n",
            "\n",
            "                        homepage_url  \\\n",
            "1             http://www.qounter.com   \n",
            "3                 http://www.0-6.com   \n",
            "4  http://004gmbh.de/en/004-interact   \n",
            "6               http://ondinebio.com   \n",
            "7                     http://h2o.ai/   \n",
            "\n",
            "                                       category_list  funding_total_usd  \\\n",
            "1  Application Platforms|Real Time|Social Network...           700000.0   \n",
            "3                                        Curated Web          2000000.0   \n",
            "4                                           Software                0.0   \n",
            "6                                      Biotechnology           762851.0   \n",
            "7                                          Analytics         33600000.0   \n",
            "\n",
            "      status country_code state_code                 region           city  \\\n",
            "1  operating          USA         DE             DE - Other  Delaware City   \n",
            "3  operating          CHN         22                Beijing        Beijing   \n",
            "4  operating          USA         IL  Springfield, Illinois      Champaign   \n",
            "6  operating          CAN         BC              Vancouver      Vancouver   \n",
            "7  operating          USA         CA            SF Bay Area  Mountain View   \n",
            "\n",
            "   funding_rounds founded_at first_funding_at last_funding_at  company_age  \\\n",
            "1               2 2014-09-04       2014-03-01      2014-10-14        10.63   \n",
            "3               1 2007-01-01       2008-03-19      2008-03-19        18.30   \n",
            "4               1 2010-01-01       2014-07-24      2014-07-24        15.30   \n",
            "6               2 1997-01-01       2009-09-11      2009-12-21        28.30   \n",
            "7               4 2011-01-01       2013-01-03      2015-11-09        14.30   \n",
            "\n",
            "   risk_score risk_category                                       credit_terms  \n",
            "1          70      Low Risk  {'credit_limit': '500000', 'interest_rate': '5...  \n",
            "3          60   Medium Risk  {'credit_limit': '200000', 'interest_rate': '8...  \n",
            "4          60   Medium Risk  {'credit_limit': '200000', 'interest_rate': '8...  \n",
            "6          70      Low Risk  {'credit_limit': '500000', 'interest_rate': '5...  \n",
            "7         100      Low Risk  {'credit_limit': '500000', 'interest_rate': '5...  \n"
          ]
        }
      ]
    },
    {
      "cell_type": "code",
      "source": [
        "\n",
        "# Display risk distribution\n",
        "print(\"\\nRisk Category Distribution:\")\n",
        "print(\"-------------------------\")\n",
        "print(df['risk_category'].value_counts())"
      ],
      "metadata": {
        "colab": {
          "base_uri": "https://localhost:8080/"
        },
        "collapsed": true,
        "id": "DUcCEliVcHSV",
        "outputId": "f3d587b0-823d-4871-b6fb-a692205d0794"
      },
      "execution_count": 43,
      "outputs": [
        {
          "output_type": "stream",
          "name": "stdout",
          "text": [
            "\n",
            "Risk Category Distribution:\n",
            "-------------------------\n",
            "risk_category\n",
            "Medium Risk    26885\n",
            "Low Risk       24234\n",
            "High Risk          1\n",
            "Name: count, dtype: int64\n"
          ]
        }
      ]
    },
    {
      "cell_type": "code",
      "source": [
        "# Display average metrics by risk category\n",
        "print(\"\\nAverage Metrics by Risk Category:\")\n",
        "print(\"-------------------------------\")\n",
        "risk_metrics = df.groupby('risk_category').agg({\n",
        "    'funding_total_usd': 'mean',\n",
        "    'funding_rounds': 'mean',\n",
        "    'company_age': 'mean'\n",
        "}).round(2)\n",
        "print(risk_metrics)"
      ],
      "metadata": {
        "colab": {
          "base_uri": "https://localhost:8080/"
        },
        "collapsed": true,
        "id": "qrotwk_qcPFc",
        "outputId": "cedf4718-7892-459b-91a7-a0f66ef686be"
      },
      "execution_count": 44,
      "outputs": [
        {
          "output_type": "stream",
          "name": "stdout",
          "text": [
            "\n",
            "Average Metrics by Risk Category:\n",
            "-------------------------------\n",
            "               funding_total_usd  funding_rounds  company_age\n",
            "risk_category                                                \n",
            "High Risk              300000.00            1.00       -16.42\n",
            "Low Risk             29617680.39            2.71        18.28\n",
            "Medium Risk           3593803.98            1.06        16.46\n"
          ]
        }
      ]
    },
    {
      "cell_type": "code",
      "source": [
        "# Display industry distribution\n",
        "print(\"\\nTop 10 Industries:\")\n",
        "print(\"----------------\")\n",
        "industry_counts = df['category_list'].value_counts().head(10)\n",
        "print(industry_counts)\n"
      ],
      "metadata": {
        "collapsed": true,
        "colab": {
          "base_uri": "https://localhost:8080/"
        },
        "id": "0P95Bs6PcXt1",
        "outputId": "f3885961-59b0-44ef-baef-6c636b909691"
      },
      "execution_count": 45,
      "outputs": [
        {
          "output_type": "stream",
          "name": "stdout",
          "text": [
            "\n",
            "Top 10 Industries:\n",
            "----------------\n",
            "category_list\n",
            "Software               3136\n",
            "Biotechnology          2430\n",
            "E-Commerce              999\n",
            "Mobile                  883\n",
            "Curated Web             794\n",
            "Clean Technology        731\n",
            "Hardware + Software     699\n",
            "Enterprise Software     663\n",
            "Health Care             634\n",
            "Games                   625\n",
            "Name: count, dtype: int64\n"
          ]
        }
      ]
    },
    {
      "cell_type": "code",
      "source": [
        "# Save results to CSV (optional)\n",
        "df.to_csv('credit_risk_analysis_results.csv', index=False)\n",
        "print(\"\\nResults have been saved to 'credit_risk_analysis_results.csv'\")"
      ],
      "metadata": {
        "colab": {
          "base_uri": "https://localhost:8080/"
        },
        "id": "Cr0rkvFVcbYP",
        "outputId": "e10820ac-ebd8-493b-a099-59f84b31d73a"
      },
      "execution_count": 46,
      "outputs": [
        {
          "output_type": "stream",
          "name": "stdout",
          "text": [
            "\n",
            "Results have been saved to 'credit_risk_analysis_results.csv'\n"
          ]
        }
      ]
    },
    {
      "cell_type": "code",
      "source": [
        "# Display sample credit terms\n",
        "print(\"\\nSample Credit Terms by Risk Category:\")\n",
        "print(\"----------------------------------\")\n",
        "for risk_level in ['Low Risk', 'Medium Risk', 'High Risk']:\n",
        "    print(f\"\\n{risk_level}:\")\n",
        "    print(df[df['risk_category'] == risk_level]['credit_terms'].iloc[0])"
      ],
      "metadata": {
        "colab": {
          "base_uri": "https://localhost:8080/"
        },
        "id": "g2nTPPljclfH",
        "outputId": "6ecf9cb5-74bb-4c29-b34d-8a57d601c044"
      },
      "execution_count": 47,
      "outputs": [
        {
          "output_type": "stream",
          "name": "stdout",
          "text": [
            "\n",
            "Sample Credit Terms by Risk Category:\n",
            "----------------------------------\n",
            "\n",
            "Low Risk:\n",
            "{'credit_limit': '500000', 'interest_rate': '5%', 'term_months': 36}\n",
            "\n",
            "Medium Risk:\n",
            "{'credit_limit': '200000', 'interest_rate': '8%', 'term_months': 24}\n",
            "\n",
            "High Risk:\n",
            "{'credit_limit': '50000', 'interest_rate': '12%', 'term_months': 12}\n"
          ]
        }
      ]
    },
    {
      "cell_type": "markdown",
      "source": [
        "This implementation allows you to:\n",
        "\n",
        "Score companies based on multiple risk factors\n",
        "Classify them into risk categories\n",
        "Assign appropriate credit terms\n",
        "Validate the policy effectiveness\n",
        "Generate comprehensive risk reports"
      ],
      "metadata": {
        "id": "7xguq1swE37Z"
      }
    }
  ]
}