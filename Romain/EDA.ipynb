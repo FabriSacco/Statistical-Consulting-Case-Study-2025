{
 "cells": [
  {
   "cell_type": "code",
   "execution_count": 7,
   "metadata": {},
   "outputs": [
    {
     "name": "stdout",
     "output_type": "stream",
     "text": [
      "The autoreload extension is already loaded. To reload it, use:\n",
      "  %reload_ext autoreload\n"
     ]
    }
   ],
   "source": [
    "%load_ext autoreload\n",
    "%autoreload 2\n",
    "import startup_credit as cr\n",
    "RAW_CSV      = r\"C:\\Users\\Romain\\OneDrive - KU Leuven\\Masters\\MBIS\\Year 2\\Semester 2\\Statistical Consulting\\ExternalData\\startup_failures.csv\"         # your Crunchbase-style file\n",
    "OUT_DIR= r\"C:\\Users\\Romain\\OneDrive - KU Leuven\\Masters\\MBIS\\Year 2\\Semester 2\\Statistical Consulting\\ExternalData\" # where to save the output"
   ]
  },
  {
   "cell_type": "code",
   "execution_count": null,
   "metadata": {},
   "outputs": [
    {
     "name": "stderr",
     "output_type": "stream",
     "text": [
      "c:\\Users\\Romain\\OneDrive - KU Leuven\\Masters\\MBIS\\Year 2\\Semester 2\\Statistical Consulting\\startup_credit.py:609: UserWarning: Parsing dates in %d/%m/%Y format when dayfirst=False (the default) was specified. Pass `dayfirst=True` or specify a format to silence this warning.\n",
      "  out = pd.to_datetime(val, errors=\"coerce\", utc=True)\n",
      "[I 2025-05-01 14:08:19,369] A new study created in memory with name: no-name-4673823d-2c32-4551-bdb6-4ec99c73a991\n",
      "[I 2025-05-01 14:13:07,549] Trial 0 finished with value: 0.7616495865837651 and parameters: {'n_estimators': 600, 'learning_rate': 0.17254716573280354, 'max_depth': 6, 'subsample': 0.8394633936788146, 'colsample_bytree': 0.6624074561769746}. Best is trial 0 with value: 0.7616495865837651.\n",
      "[I 2025-05-01 14:15:52,574] Trial 1 finished with value: 0.7868159346134236 and parameters: {'n_estimators': 400, 'learning_rate': 0.011900590783184251, 'max_depth': 7, 'subsample': 0.8404460046972835, 'colsample_bytree': 0.8832290311184181}. Best is trial 1 with value: 0.7868159346134236.\n",
      "[I 2025-05-01 14:17:41,118] Trial 2 finished with value: 0.765496136625312 and parameters: {'n_estimators': 300, 'learning_rate': 0.18276027831785724, 'max_depth': 7, 'subsample': 0.6849356442713105, 'colsample_bytree': 0.6727299868828402}. Best is trial 1 with value: 0.7868159346134236.\n",
      "[I 2025-05-01 14:20:18,448] Trial 3 finished with value: 0.7861900461652084 and parameters: {'n_estimators': 400, 'learning_rate': 0.024878734419814436, 'max_depth': 5, 'subsample': 0.7727780074568463, 'colsample_bytree': 0.7164916560792167}. Best is trial 1 with value: 0.7868159346134236.\n",
      "[I 2025-05-01 14:23:20,198] Trial 4 finished with value: 0.7850347868639646 and parameters: {'n_estimators': 900, 'learning_rate': 0.01518747922672247, 'max_depth': 4, 'subsample': 0.7465447373174767, 'colsample_bytree': 0.7824279936868144}. Best is trial 1 with value: 0.7868159346134236.\n",
      "[I 2025-05-01 14:25:58,476] Trial 5 finished with value: 0.786496604424436 and parameters: {'n_estimators': 1000, 'learning_rate': 0.018187859051288217, 'max_depth': 5, 'subsample': 0.836965827544817, 'colsample_bytree': 0.6185801650879991}. Best is trial 1 with value: 0.7868159346134236.\n"
     ]
    }
   ],
   "source": [
    "cr.train(RAW_CSV,OUT_DIR,None)"
   ]
  },
  {
   "cell_type": "code",
   "execution_count": 19,
   "metadata": {},
   "outputs": [
    {
     "name": "stderr",
     "output_type": "stream",
     "text": [
      "c:\\Users\\Romain\\OneDrive - KU Leuven\\Masters\\MBIS\\Year 2\\Semester 2\\Statistical Consulting\\startup_credit.py:609: UserWarning: Parsing dates in %d/%m/%Y format when dayfirst=False (the default) was specified. Pass `dayfirst=True` or specify a format to silence this warning.\n",
      "  out = pd.to_datetime(val, errors=\"coerce\", utc=True)\n",
      "2025-05-01 13:54:28,892 | INFO | PSI vs train: 0.0091\n",
      "2025-05-01 13:54:28,935 | INFO | K-S statistic: 0.0420\n",
      "2025-05-01 13:54:32,502 | INFO | ✔︎ Scored → C:\\Users\\Romain\\OneDrive - KU Leuven\\Masters\\MBIS\\Year 2\\Semester 2\\Statistical Consulting\\ExternalData\\out.csv\n",
      "2025-05-01 13:54:33,611 | WARNING | ⚠︎ Fair-lending flag on primary_sector_fintech_EOD : -0.436\n",
      "2025-05-01 13:54:33,612 | INFO | 📊  Plots & stress results → C:\\Users\\Romain\\OneDrive - KU Leuven\\Masters\\MBIS\\Year 2\\Semester 2\\Statistical Consulting\\ExternalData\\out_plots\n"
     ]
    }
   ],
   "source": [
    "cr.score(OUT_DIR+r\"\\model_xgb.joblib\",RAW_CSV,r\"C:\\Users\\Romain\\OneDrive - KU Leuven\\Masters\\MBIS\\Year 2\\Semester 2\\Statistical Consulting\\ExternalData\\out.csv\")"
   ]
  }
 ],
 "metadata": {
  "kernelspec": {
   "display_name": "Python 3",
   "language": "python",
   "name": "python3"
  },
  "language_info": {
   "codemirror_mode": {
    "name": "ipython",
    "version": 3
   },
   "file_extension": ".py",
   "mimetype": "text/x-python",
   "name": "python",
   "nbconvert_exporter": "python",
   "pygments_lexer": "ipython3",
   "version": "3.10.5"
  }
 },
 "nbformat": 4,
 "nbformat_minor": 2
}
